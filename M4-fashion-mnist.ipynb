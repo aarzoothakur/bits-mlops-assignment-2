{
 "cells": [
  {
   "cell_type": "code",
   "execution_count": 2,
   "metadata": {},
   "outputs": [
    {
     "name": "stdout",
     "output_type": "stream",
     "text": [
      "Requirement already satisfied: tensorflow in f:\\aarzoo\\mtech ai\\recordings\\sem3\\mlops\\assignment 2\\mlops-bits-group41-assignment2\\venv\\lib\\site-packages (2.19.0)\n",
      "Requirement already satisfied: keras in f:\\aarzoo\\mtech ai\\recordings\\sem3\\mlops\\assignment 2\\mlops-bits-group41-assignment2\\venv\\lib\\site-packages (3.9.0)\n",
      "Requirement already satisfied: numpy in f:\\aarzoo\\mtech ai\\recordings\\sem3\\mlops\\assignment 2\\mlops-bits-group41-assignment2\\venv\\lib\\site-packages (1.26.4)\n",
      "Requirement already satisfied: mlflow in f:\\aarzoo\\mtech ai\\recordings\\sem3\\mlops\\assignment 2\\mlops-bits-group41-assignment2\\venv\\lib\\site-packages (2.21.0)\n",
      "Requirement already satisfied: evidently in f:\\aarzoo\\mtech ai\\recordings\\sem3\\mlops\\assignment 2\\mlops-bits-group41-assignment2\\venv\\lib\\site-packages (0.6.6)\n",
      "Requirement already satisfied: scikit-learn in f:\\aarzoo\\mtech ai\\recordings\\sem3\\mlops\\assignment 2\\mlops-bits-group41-assignment2\\venv\\lib\\site-packages (1.6.1)\n",
      "Requirement already satisfied: absl-py>=1.0.0 in f:\\aarzoo\\mtech ai\\recordings\\sem3\\mlops\\assignment 2\\mlops-bits-group41-assignment2\\venv\\lib\\site-packages (from tensorflow) (2.2.0)\n",
      "Requirement already satisfied: astunparse>=1.6.0 in f:\\aarzoo\\mtech ai\\recordings\\sem3\\mlops\\assignment 2\\mlops-bits-group41-assignment2\\venv\\lib\\site-packages (from tensorflow) (1.6.3)\n",
      "Requirement already satisfied: flatbuffers>=24.3.25 in f:\\aarzoo\\mtech ai\\recordings\\sem3\\mlops\\assignment 2\\mlops-bits-group41-assignment2\\venv\\lib\\site-packages (from tensorflow) (25.2.10)\n",
      "Requirement already satisfied: gast!=0.5.0,!=0.5.1,!=0.5.2,>=0.2.1 in f:\\aarzoo\\mtech ai\\recordings\\sem3\\mlops\\assignment 2\\mlops-bits-group41-assignment2\\venv\\lib\\site-packages (from tensorflow) (0.6.0)\n",
      "Requirement already satisfied: google-pasta>=0.1.1 in f:\\aarzoo\\mtech ai\\recordings\\sem3\\mlops\\assignment 2\\mlops-bits-group41-assignment2\\venv\\lib\\site-packages (from tensorflow) (0.2.0)\n",
      "Requirement already satisfied: libclang>=13.0.0 in f:\\aarzoo\\mtech ai\\recordings\\sem3\\mlops\\assignment 2\\mlops-bits-group41-assignment2\\venv\\lib\\site-packages (from tensorflow) (18.1.1)\n",
      "Requirement already satisfied: opt-einsum>=2.3.2 in f:\\aarzoo\\mtech ai\\recordings\\sem3\\mlops\\assignment 2\\mlops-bits-group41-assignment2\\venv\\lib\\site-packages (from tensorflow) (3.4.0)\n",
      "Requirement already satisfied: packaging in f:\\aarzoo\\mtech ai\\recordings\\sem3\\mlops\\assignment 2\\mlops-bits-group41-assignment2\\venv\\lib\\site-packages (from tensorflow) (24.2)\n",
      "Requirement already satisfied: protobuf!=4.21.0,!=4.21.1,!=4.21.2,!=4.21.3,!=4.21.4,!=4.21.5,<6.0.0dev,>=3.20.3 in f:\\aarzoo\\mtech ai\\recordings\\sem3\\mlops\\assignment 2\\mlops-bits-group41-assignment2\\venv\\lib\\site-packages (from tensorflow) (5.29.4)\n",
      "Requirement already satisfied: requests<3,>=2.21.0 in f:\\aarzoo\\mtech ai\\recordings\\sem3\\mlops\\assignment 2\\mlops-bits-group41-assignment2\\venv\\lib\\site-packages (from tensorflow) (2.32.3)\n",
      "Requirement already satisfied: setuptools in f:\\aarzoo\\mtech ai\\recordings\\sem3\\mlops\\assignment 2\\mlops-bits-group41-assignment2\\venv\\lib\\site-packages (from tensorflow) (77.0.3)\n",
      "Requirement already satisfied: six>=1.12.0 in f:\\aarzoo\\mtech ai\\recordings\\sem3\\mlops\\assignment 2\\mlops-bits-group41-assignment2\\venv\\lib\\site-packages (from tensorflow) (1.17.0)\n",
      "Requirement already satisfied: termcolor>=1.1.0 in f:\\aarzoo\\mtech ai\\recordings\\sem3\\mlops\\assignment 2\\mlops-bits-group41-assignment2\\venv\\lib\\site-packages (from tensorflow) (2.5.0)\n",
      "Requirement already satisfied: typing-extensions>=3.6.6 in f:\\aarzoo\\mtech ai\\recordings\\sem3\\mlops\\assignment 2\\mlops-bits-group41-assignment2\\venv\\lib\\site-packages (from tensorflow) (4.12.2)\n",
      "Requirement already satisfied: wrapt>=1.11.0 in f:\\aarzoo\\mtech ai\\recordings\\sem3\\mlops\\assignment 2\\mlops-bits-group41-assignment2\\venv\\lib\\site-packages (from tensorflow) (1.17.2)\n",
      "Requirement already satisfied: grpcio<2.0,>=1.24.3 in f:\\aarzoo\\mtech ai\\recordings\\sem3\\mlops\\assignment 2\\mlops-bits-group41-assignment2\\venv\\lib\\site-packages (from tensorflow) (1.71.0)\n",
      "Requirement already satisfied: tensorboard~=2.19.0 in f:\\aarzoo\\mtech ai\\recordings\\sem3\\mlops\\assignment 2\\mlops-bits-group41-assignment2\\venv\\lib\\site-packages (from tensorflow) (2.19.0)\n",
      "Requirement already satisfied: h5py>=3.11.0 in f:\\aarzoo\\mtech ai\\recordings\\sem3\\mlops\\assignment 2\\mlops-bits-group41-assignment2\\venv\\lib\\site-packages (from tensorflow) (3.13.0)\n",
      "Requirement already satisfied: ml-dtypes<1.0.0,>=0.5.1 in f:\\aarzoo\\mtech ai\\recordings\\sem3\\mlops\\assignment 2\\mlops-bits-group41-assignment2\\venv\\lib\\site-packages (from tensorflow) (0.5.1)\n",
      "Requirement already satisfied: rich in f:\\aarzoo\\mtech ai\\recordings\\sem3\\mlops\\assignment 2\\mlops-bits-group41-assignment2\\venv\\lib\\site-packages (from keras) (13.9.4)\n",
      "Requirement already satisfied: namex in f:\\aarzoo\\mtech ai\\recordings\\sem3\\mlops\\assignment 2\\mlops-bits-group41-assignment2\\venv\\lib\\site-packages (from keras) (0.0.8)\n",
      "Requirement already satisfied: optree in f:\\aarzoo\\mtech ai\\recordings\\sem3\\mlops\\assignment 2\\mlops-bits-group41-assignment2\\venv\\lib\\site-packages (from keras) (0.14.1)\n",
      "Requirement already satisfied: mlflow-skinny==2.21.0 in f:\\aarzoo\\mtech ai\\recordings\\sem3\\mlops\\assignment 2\\mlops-bits-group41-assignment2\\venv\\lib\\site-packages (from mlflow) (2.21.0)\n",
      "Requirement already satisfied: Flask<4 in f:\\aarzoo\\mtech ai\\recordings\\sem3\\mlops\\assignment 2\\mlops-bits-group41-assignment2\\venv\\lib\\site-packages (from mlflow) (3.0.3)\n",
      "Requirement already satisfied: Jinja2<4,>=3.0 in f:\\aarzoo\\mtech ai\\recordings\\sem3\\mlops\\assignment 2\\mlops-bits-group41-assignment2\\venv\\lib\\site-packages (from mlflow) (3.1.6)\n",
      "Requirement already satisfied: alembic!=1.10.0,<2 in f:\\aarzoo\\mtech ai\\recordings\\sem3\\mlops\\assignment 2\\mlops-bits-group41-assignment2\\venv\\lib\\site-packages (from mlflow) (1.15.1)\n",
      "Requirement already satisfied: docker<8,>=4.0.0 in f:\\aarzoo\\mtech ai\\recordings\\sem3\\mlops\\assignment 2\\mlops-bits-group41-assignment2\\venv\\lib\\site-packages (from mlflow) (7.1.0)\n",
      "Requirement already satisfied: graphene<4 in f:\\aarzoo\\mtech ai\\recordings\\sem3\\mlops\\assignment 2\\mlops-bits-group41-assignment2\\venv\\lib\\site-packages (from mlflow) (3.4.3)\n",
      "Requirement already satisfied: markdown<4,>=3.3 in f:\\aarzoo\\mtech ai\\recordings\\sem3\\mlops\\assignment 2\\mlops-bits-group41-assignment2\\venv\\lib\\site-packages (from mlflow) (3.7)\n",
      "Requirement already satisfied: matplotlib<4 in f:\\aarzoo\\mtech ai\\recordings\\sem3\\mlops\\assignment 2\\mlops-bits-group41-assignment2\\venv\\lib\\site-packages (from mlflow) (3.10.0)\n",
      "Requirement already satisfied: pandas<3 in f:\\aarzoo\\mtech ai\\recordings\\sem3\\mlops\\assignment 2\\mlops-bits-group41-assignment2\\venv\\lib\\site-packages (from mlflow) (2.2.3)\n",
      "Requirement already satisfied: pyarrow<20,>=4.0.0 in f:\\aarzoo\\mtech ai\\recordings\\sem3\\mlops\\assignment 2\\mlops-bits-group41-assignment2\\venv\\lib\\site-packages (from mlflow) (19.0.1)\n",
      "Requirement already satisfied: scipy<2 in f:\\aarzoo\\mtech ai\\recordings\\sem3\\mlops\\assignment 2\\mlops-bits-group41-assignment2\\venv\\lib\\site-packages (from mlflow) (1.15.2)\n",
      "Requirement already satisfied: sqlalchemy<3,>=1.4.0 in f:\\aarzoo\\mtech ai\\recordings\\sem3\\mlops\\assignment 2\\mlops-bits-group41-assignment2\\venv\\lib\\site-packages (from mlflow) (2.0.39)\n",
      "Requirement already satisfied: waitress<4 in f:\\aarzoo\\mtech ai\\recordings\\sem3\\mlops\\assignment 2\\mlops-bits-group41-assignment2\\venv\\lib\\site-packages (from mlflow) (3.0.2)\n",
      "Requirement already satisfied: cachetools<6,>=5.0.0 in f:\\aarzoo\\mtech ai\\recordings\\sem3\\mlops\\assignment 2\\mlops-bits-group41-assignment2\\venv\\lib\\site-packages (from mlflow-skinny==2.21.0->mlflow) (5.5.2)\n",
      "Requirement already satisfied: click<9,>=7.0 in f:\\aarzoo\\mtech ai\\recordings\\sem3\\mlops\\assignment 2\\mlops-bits-group41-assignment2\\venv\\lib\\site-packages (from mlflow-skinny==2.21.0->mlflow) (8.1.8)\n",
      "Requirement already satisfied: cloudpickle<4 in f:\\aarzoo\\mtech ai\\recordings\\sem3\\mlops\\assignment 2\\mlops-bits-group41-assignment2\\venv\\lib\\site-packages (from mlflow-skinny==2.21.0->mlflow) (3.1.1)\n",
      "Requirement already satisfied: databricks-sdk<1,>=0.20.0 in f:\\aarzoo\\mtech ai\\recordings\\sem3\\mlops\\assignment 2\\mlops-bits-group41-assignment2\\venv\\lib\\site-packages (from mlflow-skinny==2.21.0->mlflow) (0.47.0)\n",
      "Requirement already satisfied: fastapi<1 in f:\\aarzoo\\mtech ai\\recordings\\sem3\\mlops\\assignment 2\\mlops-bits-group41-assignment2\\venv\\lib\\site-packages (from mlflow-skinny==2.21.0->mlflow) (0.115.11)\n",
      "Requirement already satisfied: gitpython<4,>=3.1.9 in f:\\aarzoo\\mtech ai\\recordings\\sem3\\mlops\\assignment 2\\mlops-bits-group41-assignment2\\venv\\lib\\site-packages (from mlflow-skinny==2.21.0->mlflow) (3.1.44)\n",
      "Requirement already satisfied: importlib_metadata!=4.7.0,<9,>=3.7.0 in f:\\aarzoo\\mtech ai\\recordings\\sem3\\mlops\\assignment 2\\mlops-bits-group41-assignment2\\venv\\lib\\site-packages (from mlflow-skinny==2.21.0->mlflow) (8.6.1)\n",
      "Requirement already satisfied: opentelemetry-api<3,>=1.9.0 in f:\\aarzoo\\mtech ai\\recordings\\sem3\\mlops\\assignment 2\\mlops-bits-group41-assignment2\\venv\\lib\\site-packages (from mlflow-skinny==2.21.0->mlflow) (1.31.1)\n",
      "Requirement already satisfied: opentelemetry-sdk<3,>=1.9.0 in f:\\aarzoo\\mtech ai\\recordings\\sem3\\mlops\\assignment 2\\mlops-bits-group41-assignment2\\venv\\lib\\site-packages (from mlflow-skinny==2.21.0->mlflow) (1.31.1)\n",
      "Requirement already satisfied: pydantic<3,>=1.10.8 in f:\\aarzoo\\mtech ai\\recordings\\sem3\\mlops\\assignment 2\\mlops-bits-group41-assignment2\\venv\\lib\\site-packages (from mlflow-skinny==2.21.0->mlflow) (2.10.6)\n",
      "Requirement already satisfied: pyyaml<7,>=5.1 in f:\\aarzoo\\mtech ai\\recordings\\sem3\\mlops\\assignment 2\\mlops-bits-group41-assignment2\\venv\\lib\\site-packages (from mlflow-skinny==2.21.0->mlflow) (6.0.2)\n",
      "Requirement already satisfied: sqlparse<1,>=0.4.0 in f:\\aarzoo\\mtech ai\\recordings\\sem3\\mlops\\assignment 2\\mlops-bits-group41-assignment2\\venv\\lib\\site-packages (from mlflow-skinny==2.21.0->mlflow) (0.5.3)\n",
      "Requirement already satisfied: uvicorn<1 in f:\\aarzoo\\mtech ai\\recordings\\sem3\\mlops\\assignment 2\\mlops-bits-group41-assignment2\\venv\\lib\\site-packages (from mlflow-skinny==2.21.0->mlflow) (0.34.0)\n",
      "Requirement already satisfied: plotly<6,>=5.10.0 in f:\\aarzoo\\mtech ai\\recordings\\sem3\\mlops\\assignment 2\\mlops-bits-group41-assignment2\\venv\\lib\\site-packages (from evidently) (5.24.1)\n",
      "Requirement already satisfied: statsmodels>=0.12.2 in f:\\aarzoo\\mtech ai\\recordings\\sem3\\mlops\\assignment 2\\mlops-bits-group41-assignment2\\venv\\lib\\site-packages (from evidently) (0.14.4)\n",
      "Requirement already satisfied: nltk>=3.6.7 in f:\\aarzoo\\mtech ai\\recordings\\sem3\\mlops\\assignment 2\\mlops-bits-group41-assignment2\\venv\\lib\\site-packages (from evidently) (3.9.1)\n",
      "Requirement already satisfied: litestar>=2.8.3 in f:\\aarzoo\\mtech ai\\recordings\\sem3\\mlops\\assignment 2\\mlops-bits-group41-assignment2\\venv\\lib\\site-packages (from evidently) (2.15.1)\n",
      "Requirement already satisfied: typing-inspect>=0.9.0 in f:\\aarzoo\\mtech ai\\recordings\\sem3\\mlops\\assignment 2\\mlops-bits-group41-assignment2\\venv\\lib\\site-packages (from evidently) (0.9.0)\n",
      "Requirement already satisfied: watchdog>=3.0.0 in f:\\aarzoo\\mtech ai\\recordings\\sem3\\mlops\\assignment 2\\mlops-bits-group41-assignment2\\venv\\lib\\site-packages (from evidently) (6.0.0)\n",
      "Requirement already satisfied: typer>=0.3 in f:\\aarzoo\\mtech ai\\recordings\\sem3\\mlops\\assignment 2\\mlops-bits-group41-assignment2\\venv\\lib\\site-packages (from evidently) (0.15.2)\n",
      "Requirement already satisfied: iterative-telemetry>=0.0.5 in f:\\aarzoo\\mtech ai\\recordings\\sem3\\mlops\\assignment 2\\mlops-bits-group41-assignment2\\venv\\lib\\site-packages (from evidently) (0.0.10)\n",
      "Requirement already satisfied: dynaconf>=3.2.4 in f:\\aarzoo\\mtech ai\\recordings\\sem3\\mlops\\assignment 2\\mlops-bits-group41-assignment2\\venv\\lib\\site-packages (from evidently) (3.2.10)\n",
      "Requirement already satisfied: certifi>=2024.7.4 in f:\\aarzoo\\mtech ai\\recordings\\sem3\\mlops\\assignment 2\\mlops-bits-group41-assignment2\\venv\\lib\\site-packages (from evidently) (2025.1.31)\n",
      "Requirement already satisfied: urllib3>=1.26.19 in f:\\aarzoo\\mtech ai\\recordings\\sem3\\mlops\\assignment 2\\mlops-bits-group41-assignment2\\venv\\lib\\site-packages (from evidently) (2.3.0)\n",
      "Requirement already satisfied: fsspec>=2024.6.1 in f:\\aarzoo\\mtech ai\\recordings\\sem3\\mlops\\assignment 2\\mlops-bits-group41-assignment2\\venv\\lib\\site-packages (from evidently) (2025.3.0)\n",
      "Requirement already satisfied: ujson>=5.4.0 in f:\\aarzoo\\mtech ai\\recordings\\sem3\\mlops\\assignment 2\\mlops-bits-group41-assignment2\\venv\\lib\\site-packages (from evidently) (5.10.0)\n",
      "Requirement already satisfied: deprecation>=2.1.0 in f:\\aarzoo\\mtech ai\\recordings\\sem3\\mlops\\assignment 2\\mlops-bits-group41-assignment2\\venv\\lib\\site-packages (from evidently) (2.1.0)\n",
      "Requirement already satisfied: uuid6>=2024.7.10 in f:\\aarzoo\\mtech ai\\recordings\\sem3\\mlops\\assignment 2\\mlops-bits-group41-assignment2\\venv\\lib\\site-packages (from evidently) (2024.7.10)\n",
      "Requirement already satisfied: cryptography>=43.0.1 in f:\\aarzoo\\mtech ai\\recordings\\sem3\\mlops\\assignment 2\\mlops-bits-group41-assignment2\\venv\\lib\\site-packages (from evidently) (44.0.2)\n",
      "Requirement already satisfied: joblib>=1.2.0 in f:\\aarzoo\\mtech ai\\recordings\\sem3\\mlops\\assignment 2\\mlops-bits-group41-assignment2\\venv\\lib\\site-packages (from scikit-learn) (1.4.2)\n",
      "Requirement already satisfied: threadpoolctl>=3.1.0 in f:\\aarzoo\\mtech ai\\recordings\\sem3\\mlops\\assignment 2\\mlops-bits-group41-assignment2\\venv\\lib\\site-packages (from scikit-learn) (3.6.0)\n",
      "Requirement already satisfied: Mako in f:\\aarzoo\\mtech ai\\recordings\\sem3\\mlops\\assignment 2\\mlops-bits-group41-assignment2\\venv\\lib\\site-packages (from alembic!=1.10.0,<2->mlflow) (1.3.9)\n",
      "Requirement already satisfied: wheel<1.0,>=0.23.0 in f:\\aarzoo\\mtech ai\\recordings\\sem3\\mlops\\assignment 2\\mlops-bits-group41-assignment2\\venv\\lib\\site-packages (from astunparse>=1.6.0->tensorflow) (0.45.1)\n",
      "Requirement already satisfied: cffi>=1.12 in f:\\aarzoo\\mtech ai\\recordings\\sem3\\mlops\\assignment 2\\mlops-bits-group41-assignment2\\venv\\lib\\site-packages (from cryptography>=43.0.1->evidently) (1.17.1)\n",
      "Requirement already satisfied: pywin32>=304 in f:\\aarzoo\\mtech ai\\recordings\\sem3\\mlops\\assignment 2\\mlops-bits-group41-assignment2\\venv\\lib\\site-packages (from docker<8,>=4.0.0->mlflow) (310)\n",
      "Requirement already satisfied: Werkzeug>=3.0.0 in f:\\aarzoo\\mtech ai\\recordings\\sem3\\mlops\\assignment 2\\mlops-bits-group41-assignment2\\venv\\lib\\site-packages (from Flask<4->mlflow) (3.0.6)\n",
      "Requirement already satisfied: itsdangerous>=2.1.2 in f:\\aarzoo\\mtech ai\\recordings\\sem3\\mlops\\assignment 2\\mlops-bits-group41-assignment2\\venv\\lib\\site-packages (from Flask<4->mlflow) (2.2.0)\n",
      "Requirement already satisfied: blinker>=1.6.2 in f:\\aarzoo\\mtech ai\\recordings\\sem3\\mlops\\assignment 2\\mlops-bits-group41-assignment2\\venv\\lib\\site-packages (from Flask<4->mlflow) (1.9.0)\n",
      "Requirement already satisfied: graphql-core<3.3,>=3.1 in f:\\aarzoo\\mtech ai\\recordings\\sem3\\mlops\\assignment 2\\mlops-bits-group41-assignment2\\venv\\lib\\site-packages (from graphene<4->mlflow) (3.2.6)\n",
      "Requirement already satisfied: graphql-relay<3.3,>=3.1 in f:\\aarzoo\\mtech ai\\recordings\\sem3\\mlops\\assignment 2\\mlops-bits-group41-assignment2\\venv\\lib\\site-packages (from graphene<4->mlflow) (3.2.0)\n",
      "Requirement already satisfied: python-dateutil<3,>=2.7.0 in f:\\aarzoo\\mtech ai\\recordings\\sem3\\mlops\\assignment 2\\mlops-bits-group41-assignment2\\venv\\lib\\site-packages (from graphene<4->mlflow) (2.9.0.post0)\n",
      "Requirement already satisfied: appdirs in f:\\aarzoo\\mtech ai\\recordings\\sem3\\mlops\\assignment 2\\mlops-bits-group41-assignment2\\venv\\lib\\site-packages (from iterative-telemetry>=0.0.5->evidently) (1.4.4)\n",
      "Requirement already satisfied: filelock in f:\\aarzoo\\mtech ai\\recordings\\sem3\\mlops\\assignment 2\\mlops-bits-group41-assignment2\\venv\\lib\\site-packages (from iterative-telemetry>=0.0.5->evidently) (3.18.0)\n",
      "Requirement already satisfied: distro in f:\\aarzoo\\mtech ai\\recordings\\sem3\\mlops\\assignment 2\\mlops-bits-group41-assignment2\\venv\\lib\\site-packages (from iterative-telemetry>=0.0.5->evidently) (1.9.0)\n",
      "Requirement already satisfied: MarkupSafe>=2.0 in f:\\aarzoo\\mtech ai\\recordings\\sem3\\mlops\\assignment 2\\mlops-bits-group41-assignment2\\venv\\lib\\site-packages (from Jinja2<4,>=3.0->mlflow) (3.0.2)\n",
      "Requirement already satisfied: anyio>=3 in f:\\aarzoo\\mtech ai\\recordings\\sem3\\mlops\\assignment 2\\mlops-bits-group41-assignment2\\venv\\lib\\site-packages (from litestar>=2.8.3->evidently) (4.9.0)\n",
      "Requirement already satisfied: httpx>=0.22 in f:\\aarzoo\\mtech ai\\recordings\\sem3\\mlops\\assignment 2\\mlops-bits-group41-assignment2\\venv\\lib\\site-packages (from litestar>=2.8.3->evidently) (0.28.1)\n",
      "Requirement already satisfied: litestar-htmx>=0.4.0 in f:\\aarzoo\\mtech ai\\recordings\\sem3\\mlops\\assignment 2\\mlops-bits-group41-assignment2\\venv\\lib\\site-packages (from litestar>=2.8.3->evidently) (0.4.1)\n",
      "Requirement already satisfied: msgspec>=0.18.2 in f:\\aarzoo\\mtech ai\\recordings\\sem3\\mlops\\assignment 2\\mlops-bits-group41-assignment2\\venv\\lib\\site-packages (from litestar>=2.8.3->evidently) (0.19.0)\n",
      "Requirement already satisfied: multidict>=6.0.2 in f:\\aarzoo\\mtech ai\\recordings\\sem3\\mlops\\assignment 2\\mlops-bits-group41-assignment2\\venv\\lib\\site-packages (from litestar>=2.8.3->evidently) (6.2.0)\n",
      "Requirement already satisfied: multipart>=1.2.0 in f:\\aarzoo\\mtech ai\\recordings\\sem3\\mlops\\assignment 2\\mlops-bits-group41-assignment2\\venv\\lib\\site-packages (from litestar>=2.8.3->evidently) (1.2.1)\n",
      "Requirement already satisfied: polyfactory>=2.6.3 in f:\\aarzoo\\mtech ai\\recordings\\sem3\\mlops\\assignment 2\\mlops-bits-group41-assignment2\\venv\\lib\\site-packages (from litestar>=2.8.3->evidently) (2.20.0)\n",
      "Requirement already satisfied: rich-click in f:\\aarzoo\\mtech ai\\recordings\\sem3\\mlops\\assignment 2\\mlops-bits-group41-assignment2\\venv\\lib\\site-packages (from litestar>=2.8.3->evidently) (1.8.8)\n",
      "Requirement already satisfied: contourpy>=1.0.1 in f:\\aarzoo\\mtech ai\\recordings\\sem3\\mlops\\assignment 2\\mlops-bits-group41-assignment2\\venv\\lib\\site-packages (from matplotlib<4->mlflow) (1.3.1)\n",
      "Requirement already satisfied: cycler>=0.10 in f:\\aarzoo\\mtech ai\\recordings\\sem3\\mlops\\assignment 2\\mlops-bits-group41-assignment2\\venv\\lib\\site-packages (from matplotlib<4->mlflow) (0.12.1)\n",
      "Requirement already satisfied: fonttools>=4.22.0 in f:\\aarzoo\\mtech ai\\recordings\\sem3\\mlops\\assignment 2\\mlops-bits-group41-assignment2\\venv\\lib\\site-packages (from matplotlib<4->mlflow) (4.56.0)\n",
      "Requirement already satisfied: kiwisolver>=1.3.1 in f:\\aarzoo\\mtech ai\\recordings\\sem3\\mlops\\assignment 2\\mlops-bits-group41-assignment2\\venv\\lib\\site-packages (from matplotlib<4->mlflow) (1.4.8)\n",
      "Requirement already satisfied: pillow>=8 in f:\\aarzoo\\mtech ai\\recordings\\sem3\\mlops\\assignment 2\\mlops-bits-group41-assignment2\\venv\\lib\\site-packages (from matplotlib<4->mlflow) (10.4.0)\n",
      "Requirement already satisfied: pyparsing>=2.3.1 in f:\\aarzoo\\mtech ai\\recordings\\sem3\\mlops\\assignment 2\\mlops-bits-group41-assignment2\\venv\\lib\\site-packages (from matplotlib<4->mlflow) (3.2.1)\n",
      "Requirement already satisfied: regex>=2021.8.3 in f:\\aarzoo\\mtech ai\\recordings\\sem3\\mlops\\assignment 2\\mlops-bits-group41-assignment2\\venv\\lib\\site-packages (from nltk>=3.6.7->evidently) (2024.11.6)\n",
      "Requirement already satisfied: tqdm in f:\\aarzoo\\mtech ai\\recordings\\sem3\\mlops\\assignment 2\\mlops-bits-group41-assignment2\\venv\\lib\\site-packages (from nltk>=3.6.7->evidently) (4.67.1)\n",
      "Requirement already satisfied: pytz>=2020.1 in f:\\aarzoo\\mtech ai\\recordings\\sem3\\mlops\\assignment 2\\mlops-bits-group41-assignment2\\venv\\lib\\site-packages (from pandas<3->mlflow) (2025.1)\n",
      "Requirement already satisfied: tzdata>=2022.7 in f:\\aarzoo\\mtech ai\\recordings\\sem3\\mlops\\assignment 2\\mlops-bits-group41-assignment2\\venv\\lib\\site-packages (from pandas<3->mlflow) (2025.1)\n",
      "Requirement already satisfied: tenacity>=6.2.0 in f:\\aarzoo\\mtech ai\\recordings\\sem3\\mlops\\assignment 2\\mlops-bits-group41-assignment2\\venv\\lib\\site-packages (from plotly<6,>=5.10.0->evidently) (9.0.0)\n",
      "Requirement already satisfied: annotated-types>=0.6.0 in f:\\aarzoo\\mtech ai\\recordings\\sem3\\mlops\\assignment 2\\mlops-bits-group41-assignment2\\venv\\lib\\site-packages (from pydantic<3,>=1.10.8->mlflow-skinny==2.21.0->mlflow) (0.7.0)\n",
      "Requirement already satisfied: pydantic-core==2.27.2 in f:\\aarzoo\\mtech ai\\recordings\\sem3\\mlops\\assignment 2\\mlops-bits-group41-assignment2\\venv\\lib\\site-packages (from pydantic<3,>=1.10.8->mlflow-skinny==2.21.0->mlflow) (2.27.2)\n",
      "Requirement already satisfied: charset-normalizer<4,>=2 in f:\\aarzoo\\mtech ai\\recordings\\sem3\\mlops\\assignment 2\\mlops-bits-group41-assignment2\\venv\\lib\\site-packages (from requests<3,>=2.21.0->tensorflow) (3.4.1)\n",
      "Requirement already satisfied: idna<4,>=2.5 in f:\\aarzoo\\mtech ai\\recordings\\sem3\\mlops\\assignment 2\\mlops-bits-group41-assignment2\\venv\\lib\\site-packages (from requests<3,>=2.21.0->tensorflow) (3.10)\n",
      "Requirement already satisfied: markdown-it-py>=2.2.0 in f:\\aarzoo\\mtech ai\\recordings\\sem3\\mlops\\assignment 2\\mlops-bits-group41-assignment2\\venv\\lib\\site-packages (from rich->keras) (3.0.0)\n",
      "Requirement already satisfied: pygments<3.0.0,>=2.13.0 in f:\\aarzoo\\mtech ai\\recordings\\sem3\\mlops\\assignment 2\\mlops-bits-group41-assignment2\\venv\\lib\\site-packages (from rich->keras) (2.19.1)\n",
      "Requirement already satisfied: greenlet!=0.4.17 in f:\\aarzoo\\mtech ai\\recordings\\sem3\\mlops\\assignment 2\\mlops-bits-group41-assignment2\\venv\\lib\\site-packages (from sqlalchemy<3,>=1.4.0->mlflow) (3.1.1)\n",
      "Requirement already satisfied: patsy>=0.5.6 in f:\\aarzoo\\mtech ai\\recordings\\sem3\\mlops\\assignment 2\\mlops-bits-group41-assignment2\\venv\\lib\\site-packages (from statsmodels>=0.12.2->evidently) (1.0.1)\n",
      "Requirement already satisfied: tensorboard-data-server<0.8.0,>=0.7.0 in f:\\aarzoo\\mtech ai\\recordings\\sem3\\mlops\\assignment 2\\mlops-bits-group41-assignment2\\venv\\lib\\site-packages (from tensorboard~=2.19.0->tensorflow) (0.7.2)\n",
      "Requirement already satisfied: shellingham>=1.3.0 in f:\\aarzoo\\mtech ai\\recordings\\sem3\\mlops\\assignment 2\\mlops-bits-group41-assignment2\\venv\\lib\\site-packages (from typer>=0.3->evidently) (1.5.4)\n",
      "Requirement already satisfied: mypy-extensions>=0.3.0 in f:\\aarzoo\\mtech ai\\recordings\\sem3\\mlops\\assignment 2\\mlops-bits-group41-assignment2\\venv\\lib\\site-packages (from typing-inspect>=0.9.0->evidently) (1.0.0)\n",
      "Requirement already satisfied: h11>=0.8 in f:\\aarzoo\\mtech ai\\recordings\\sem3\\mlops\\assignment 2\\mlops-bits-group41-assignment2\\venv\\lib\\site-packages (from uvicorn<1->mlflow-skinny==2.21.0->mlflow) (0.14.0)\n",
      "Requirement already satisfied: colorama>=0.4 in f:\\aarzoo\\mtech ai\\recordings\\sem3\\mlops\\assignment 2\\mlops-bits-group41-assignment2\\venv\\lib\\site-packages (from uvicorn[standard]>=0.22.0->evidently) (0.4.6)\n",
      "Requirement already satisfied: httptools>=0.6.3 in f:\\aarzoo\\mtech ai\\recordings\\sem3\\mlops\\assignment 2\\mlops-bits-group41-assignment2\\venv\\lib\\site-packages (from uvicorn[standard]>=0.22.0->evidently) (0.6.4)\n",
      "Requirement already satisfied: python-dotenv>=0.13 in f:\\aarzoo\\mtech ai\\recordings\\sem3\\mlops\\assignment 2\\mlops-bits-group41-assignment2\\venv\\lib\\site-packages (from uvicorn[standard]>=0.22.0->evidently) (1.0.1)\n",
      "Requirement already satisfied: watchfiles>=0.13 in f:\\aarzoo\\mtech ai\\recordings\\sem3\\mlops\\assignment 2\\mlops-bits-group41-assignment2\\venv\\lib\\site-packages (from uvicorn[standard]>=0.22.0->evidently) (1.0.4)\n",
      "Requirement already satisfied: websockets>=10.4 in f:\\aarzoo\\mtech ai\\recordings\\sem3\\mlops\\assignment 2\\mlops-bits-group41-assignment2\\venv\\lib\\site-packages (from uvicorn[standard]>=0.22.0->evidently) (15.0.1)\n",
      "Requirement already satisfied: sniffio>=1.1 in f:\\aarzoo\\mtech ai\\recordings\\sem3\\mlops\\assignment 2\\mlops-bits-group41-assignment2\\venv\\lib\\site-packages (from anyio>=3->litestar>=2.8.3->evidently) (1.3.1)\n",
      "Requirement already satisfied: pycparser in f:\\aarzoo\\mtech ai\\recordings\\sem3\\mlops\\assignment 2\\mlops-bits-group41-assignment2\\venv\\lib\\site-packages (from cffi>=1.12->cryptography>=43.0.1->evidently) (2.22)\n",
      "Requirement already satisfied: google-auth~=2.0 in f:\\aarzoo\\mtech ai\\recordings\\sem3\\mlops\\assignment 2\\mlops-bits-group41-assignment2\\venv\\lib\\site-packages (from databricks-sdk<1,>=0.20.0->mlflow-skinny==2.21.0->mlflow) (2.38.0)\n",
      "Requirement already satisfied: starlette<0.47.0,>=0.40.0 in f:\\aarzoo\\mtech ai\\recordings\\sem3\\mlops\\assignment 2\\mlops-bits-group41-assignment2\\venv\\lib\\site-packages (from fastapi<1->mlflow-skinny==2.21.0->mlflow) (0.46.1)\n",
      "Requirement already satisfied: gitdb<5,>=4.0.1 in f:\\aarzoo\\mtech ai\\recordings\\sem3\\mlops\\assignment 2\\mlops-bits-group41-assignment2\\venv\\lib\\site-packages (from gitpython<4,>=3.1.9->mlflow-skinny==2.21.0->mlflow) (4.0.12)\n",
      "Requirement already satisfied: httpcore==1.* in f:\\aarzoo\\mtech ai\\recordings\\sem3\\mlops\\assignment 2\\mlops-bits-group41-assignment2\\venv\\lib\\site-packages (from httpx>=0.22->litestar>=2.8.3->evidently) (1.0.7)\n",
      "Requirement already satisfied: zipp>=3.20 in f:\\aarzoo\\mtech ai\\recordings\\sem3\\mlops\\assignment 2\\mlops-bits-group41-assignment2\\venv\\lib\\site-packages (from importlib_metadata!=4.7.0,<9,>=3.7.0->mlflow-skinny==2.21.0->mlflow) (3.21.0)\n",
      "Requirement already satisfied: mdurl~=0.1 in f:\\aarzoo\\mtech ai\\recordings\\sem3\\mlops\\assignment 2\\mlops-bits-group41-assignment2\\venv\\lib\\site-packages (from markdown-it-py>=2.2.0->rich->keras) (0.1.2)\n",
      "Requirement already satisfied: deprecated>=1.2.6 in f:\\aarzoo\\mtech ai\\recordings\\sem3\\mlops\\assignment 2\\mlops-bits-group41-assignment2\\venv\\lib\\site-packages (from opentelemetry-api<3,>=1.9.0->mlflow-skinny==2.21.0->mlflow) (1.2.18)\n",
      "Requirement already satisfied: opentelemetry-semantic-conventions==0.52b1 in f:\\aarzoo\\mtech ai\\recordings\\sem3\\mlops\\assignment 2\\mlops-bits-group41-assignment2\\venv\\lib\\site-packages (from opentelemetry-sdk<3,>=1.9.0->mlflow-skinny==2.21.0->mlflow) (0.52b1)\n",
      "Requirement already satisfied: faker>=5.0.0 in f:\\aarzoo\\mtech ai\\recordings\\sem3\\mlops\\assignment 2\\mlops-bits-group41-assignment2\\venv\\lib\\site-packages (from polyfactory>=2.6.3->litestar>=2.8.3->evidently) (37.0.2)\n",
      "Requirement already satisfied: smmap<6,>=3.0.1 in f:\\aarzoo\\mtech ai\\recordings\\sem3\\mlops\\assignment 2\\mlops-bits-group41-assignment2\\venv\\lib\\site-packages (from gitdb<5,>=4.0.1->gitpython<4,>=3.1.9->mlflow-skinny==2.21.0->mlflow) (5.0.2)\n",
      "Requirement already satisfied: pyasn1-modules>=0.2.1 in f:\\aarzoo\\mtech ai\\recordings\\sem3\\mlops\\assignment 2\\mlops-bits-group41-assignment2\\venv\\lib\\site-packages (from google-auth~=2.0->databricks-sdk<1,>=0.20.0->mlflow-skinny==2.21.0->mlflow) (0.4.1)\n",
      "Requirement already satisfied: rsa<5,>=3.1.4 in f:\\aarzoo\\mtech ai\\recordings\\sem3\\mlops\\assignment 2\\mlops-bits-group41-assignment2\\venv\\lib\\site-packages (from google-auth~=2.0->databricks-sdk<1,>=0.20.0->mlflow-skinny==2.21.0->mlflow) (4.9)\n",
      "Requirement already satisfied: pyasn1<0.7.0,>=0.4.6 in f:\\aarzoo\\mtech ai\\recordings\\sem3\\mlops\\assignment 2\\mlops-bits-group41-assignment2\\venv\\lib\\site-packages (from pyasn1-modules>=0.2.1->google-auth~=2.0->databricks-sdk<1,>=0.20.0->mlflow-skinny==2.21.0->mlflow) (0.6.1)\n",
      "Note: you may need to restart the kernel to use updated packages.\n"
     ]
    },
    {
     "name": "stderr",
     "output_type": "stream",
     "text": [
      "WARNING: Ignoring invalid distribution ~atplotlib (f:\\Aarzoo\\Mtech AI\\Recordings\\sem3\\MLOPS\\Assignment 2\\MLOPS-bits-Group41-Assignment2\\venv\\Lib\\site-packages)\n",
      "WARNING: Ignoring invalid distribution ~atplotlib (f:\\Aarzoo\\Mtech AI\\Recordings\\sem3\\MLOPS\\Assignment 2\\MLOPS-bits-Group41-Assignment2\\venv\\Lib\\site-packages)\n",
      "WARNING: Ignoring invalid distribution ~atplotlib (f:\\Aarzoo\\Mtech AI\\Recordings\\sem3\\MLOPS\\Assignment 2\\MLOPS-bits-Group41-Assignment2\\venv\\Lib\\site-packages)\n"
     ]
    }
   ],
   "source": [
    "pip install tensorflow keras numpy mlflow evidently scikit-learn\n"
   ]
  },
  {
   "cell_type": "code",
   "execution_count": 1,
   "metadata": {},
   "outputs": [],
   "source": [
    "import tensorflow as tf\n",
    "from tensorflow import keras\n",
    "import numpy as np\n",
    "import mlflow\n",
    "import mlflow.tensorflow\n",
    "from evidently.report import Report\n",
    "from evidently.metric_preset import DataDriftPreset\n",
    "from sklearn.model_selection import train_test_split\n"
   ]
  },
  {
   "cell_type": "code",
   "execution_count": 2,
   "metadata": {},
   "outputs": [],
   "source": [
    "# Load dataset\n",
    "fashion_mnist = keras.datasets.fashion_mnist\n",
    "(X_train, y_train), (X_test, y_test) = fashion_mnist.load_data()\n",
    "\n",
    "# Normalize images\n",
    "X_train, X_test = X_train / 255.0, X_test / 255.0\n",
    "\n",
    "# Split validation set\n",
    "X_train, X_val, y_train, y_val = train_test_split(X_train, y_train, test_size=0.1, random_state=42)\n"
   ]
  },
  {
   "cell_type": "code",
   "execution_count": 13,
   "metadata": {},
   "outputs": [
    {
     "name": "stdout",
     "output_type": "stream",
     "text": [
      "\n",
      " Training Model: Epochs=5, Optimizer=adam\n"
     ]
    },
    {
     "name": "stderr",
     "output_type": "stream",
     "text": [
      "f:\\Aarzoo\\Mtech AI\\Recordings\\sem3\\MLOPS\\Assignment 2\\MLOPS-bits-Group41-Assignment2\\venv\\Lib\\site-packages\\keras\\src\\layers\\reshaping\\flatten.py:37: UserWarning:\n",
      "\n",
      "Do not pass an `input_shape`/`input_dim` argument to a layer. When using Sequential models, prefer using an `Input(shape)` object as the first layer in the model instead.\n",
      "\n"
     ]
    },
    {
     "name": "stdout",
     "output_type": "stream",
     "text": [
      "Epoch 1/5\n",
      "\u001b[1m1688/1688\u001b[0m \u001b[32m━━━━━━━━━━━━━━━━━━━━\u001b[0m\u001b[37m\u001b[0m \u001b[1m12s\u001b[0m 6ms/step - accuracy: 0.7612 - loss: 0.6945 - val_accuracy: 0.8442 - val_loss: 0.4384\n",
      "Epoch 2/5\n",
      "\u001b[1m1688/1688\u001b[0m \u001b[32m━━━━━━━━━━━━━━━━━━━━\u001b[0m\u001b[37m\u001b[0m \u001b[1m8s\u001b[0m 4ms/step - accuracy: 0.8497 - loss: 0.4111 - val_accuracy: 0.8660 - val_loss: 0.3683\n",
      "Epoch 3/5\n",
      "\u001b[1m1688/1688\u001b[0m \u001b[32m━━━━━━━━━━━━━━━━━━━━\u001b[0m\u001b[37m\u001b[0m \u001b[1m9s\u001b[0m 5ms/step - accuracy: 0.8631 - loss: 0.3751 - val_accuracy: 0.8682 - val_loss: 0.3574\n",
      "Epoch 4/5\n",
      "\u001b[1m1688/1688\u001b[0m \u001b[32m━━━━━━━━━━━━━━━━━━━━\u001b[0m\u001b[37m\u001b[0m \u001b[1m8s\u001b[0m 4ms/step - accuracy: 0.8731 - loss: 0.3489 - val_accuracy: 0.8752 - val_loss: 0.3476\n",
      "Epoch 5/5\n",
      "\u001b[1m1688/1688\u001b[0m \u001b[32m━━━━━━━━━━━━━━━━━━━━\u001b[0m\u001b[37m\u001b[0m \u001b[1m8s\u001b[0m 5ms/step - accuracy: 0.8806 - loss: 0.3277 - val_accuracy: 0.8773 - val_loss: 0.3358\n"
     ]
    },
    {
     "name": "stderr",
     "output_type": "stream",
     "text": [
      "WARNING:absl:You are saving your model as an HDF5 file via `model.save()` or `keras.saving.save_model(model)`. This file format is considered legacy. We recommend using instead the native Keras format, e.g. `model.save('my_model.keras')` or `keras.saving.save_model(model, 'my_model.keras')`. \n"
     ]
    },
    {
     "name": "stdout",
     "output_type": "stream",
     "text": [
      "\n",
      " Training Model: Epochs=10, Optimizer=adam\n",
      "Epoch 1/10\n",
      "\u001b[1m1688/1688\u001b[0m \u001b[32m━━━━━━━━━━━━━━━━━━━━\u001b[0m\u001b[37m\u001b[0m \u001b[1m10s\u001b[0m 5ms/step - accuracy: 0.7580 - loss: 0.6936 - val_accuracy: 0.8405 - val_loss: 0.4427\n",
      "Epoch 2/10\n",
      "\u001b[1m1688/1688\u001b[0m \u001b[32m━━━━━━━━━━━━━━━━━━━━\u001b[0m\u001b[37m\u001b[0m \u001b[1m11s\u001b[0m 7ms/step - accuracy: 0.8515 - loss: 0.4166 - val_accuracy: 0.8688 - val_loss: 0.3629\n",
      "Epoch 3/10\n",
      "\u001b[1m1688/1688\u001b[0m \u001b[32m━━━━━━━━━━━━━━━━━━━━\u001b[0m\u001b[37m\u001b[0m \u001b[1m12s\u001b[0m 7ms/step - accuracy: 0.8651 - loss: 0.3718 - val_accuracy: 0.8685 - val_loss: 0.3567\n",
      "Epoch 4/10\n",
      "\u001b[1m1688/1688\u001b[0m \u001b[32m━━━━━━━━━━━━━━━━━━━━\u001b[0m\u001b[37m\u001b[0m \u001b[1m9s\u001b[0m 5ms/step - accuracy: 0.8712 - loss: 0.3531 - val_accuracy: 0.8798 - val_loss: 0.3441\n",
      "Epoch 5/10\n",
      "\u001b[1m1688/1688\u001b[0m \u001b[32m━━━━━━━━━━━━━━━━━━━━\u001b[0m\u001b[37m\u001b[0m \u001b[1m9s\u001b[0m 5ms/step - accuracy: 0.8731 - loss: 0.3421 - val_accuracy: 0.8775 - val_loss: 0.3383\n",
      "Epoch 6/10\n",
      "\u001b[1m1688/1688\u001b[0m \u001b[32m━━━━━━━━━━━━━━━━━━━━\u001b[0m\u001b[37m\u001b[0m \u001b[1m9s\u001b[0m 5ms/step - accuracy: 0.8825 - loss: 0.3197 - val_accuracy: 0.8820 - val_loss: 0.3211\n",
      "Epoch 7/10\n",
      "\u001b[1m1688/1688\u001b[0m \u001b[32m━━━━━━━━━━━━━━━━━━━━\u001b[0m\u001b[37m\u001b[0m \u001b[1m8s\u001b[0m 5ms/step - accuracy: 0.8844 - loss: 0.3124 - val_accuracy: 0.8833 - val_loss: 0.3249\n",
      "Epoch 8/10\n",
      "\u001b[1m1688/1688\u001b[0m \u001b[32m━━━━━━━━━━━━━━━━━━━━\u001b[0m\u001b[37m\u001b[0m \u001b[1m10s\u001b[0m 6ms/step - accuracy: 0.8862 - loss: 0.3028 - val_accuracy: 0.8802 - val_loss: 0.3296\n",
      "Epoch 9/10\n",
      "\u001b[1m1688/1688\u001b[0m \u001b[32m━━━━━━━━━━━━━━━━━━━━\u001b[0m\u001b[37m\u001b[0m \u001b[1m8s\u001b[0m 5ms/step - accuracy: 0.8917 - loss: 0.2913 - val_accuracy: 0.8767 - val_loss: 0.3442\n",
      "Epoch 10/10\n",
      "\u001b[1m1688/1688\u001b[0m \u001b[32m━━━━━━━━━━━━━━━━━━━━\u001b[0m\u001b[37m\u001b[0m \u001b[1m8s\u001b[0m 5ms/step - accuracy: 0.8929 - loss: 0.2842 - val_accuracy: 0.8875 - val_loss: 0.3197\n"
     ]
    },
    {
     "name": "stderr",
     "output_type": "stream",
     "text": [
      "WARNING:absl:You are saving your model as an HDF5 file via `model.save()` or `keras.saving.save_model(model)`. This file format is considered legacy. We recommend using instead the native Keras format, e.g. `model.save('my_model.keras')` or `keras.saving.save_model(model, 'my_model.keras')`. \n"
     ]
    },
    {
     "name": "stdout",
     "output_type": "stream",
     "text": [
      "\n",
      " Training Model: Epochs=5, Optimizer=sgd\n",
      "Epoch 1/5\n",
      "\u001b[1m1688/1688\u001b[0m \u001b[32m━━━━━━━━━━━━━━━━━━━━\u001b[0m\u001b[37m\u001b[0m \u001b[1m9s\u001b[0m 5ms/step - accuracy: 0.6261 - loss: 1.1461 - val_accuracy: 0.8098 - val_loss: 0.5887\n",
      "Epoch 2/5\n",
      "\u001b[1m1688/1688\u001b[0m \u001b[32m━━━━━━━━━━━━━━━━━━━━\u001b[0m\u001b[37m\u001b[0m \u001b[1m11s\u001b[0m 7ms/step - accuracy: 0.8005 - loss: 0.5990 - val_accuracy: 0.8260 - val_loss: 0.5145\n",
      "Epoch 3/5\n",
      "\u001b[1m1688/1688\u001b[0m \u001b[32m━━━━━━━━━━━━━━━━━━━━\u001b[0m\u001b[37m\u001b[0m \u001b[1m11s\u001b[0m 6ms/step - accuracy: 0.8191 - loss: 0.5283 - val_accuracy: 0.8335 - val_loss: 0.4729\n",
      "Epoch 4/5\n",
      "\u001b[1m1688/1688\u001b[0m \u001b[32m━━━━━━━━━━━━━━━━━━━━\u001b[0m\u001b[37m\u001b[0m \u001b[1m12s\u001b[0m 7ms/step - accuracy: 0.8317 - loss: 0.4947 - val_accuracy: 0.8385 - val_loss: 0.4516\n",
      "Epoch 5/5\n",
      "\u001b[1m1688/1688\u001b[0m \u001b[32m━━━━━━━━━━━━━━━━━━━━\u001b[0m\u001b[37m\u001b[0m \u001b[1m9s\u001b[0m 5ms/step - accuracy: 0.8373 - loss: 0.4654 - val_accuracy: 0.8502 - val_loss: 0.4293\n"
     ]
    },
    {
     "name": "stderr",
     "output_type": "stream",
     "text": [
      "WARNING:absl:You are saving your model as an HDF5 file via `model.save()` or `keras.saving.save_model(model)`. This file format is considered legacy. We recommend using instead the native Keras format, e.g. `model.save('my_model.keras')` or `keras.saving.save_model(model, 'my_model.keras')`. \n"
     ]
    },
    {
     "name": "stdout",
     "output_type": "stream",
     "text": [
      "\n",
      " All models trained and logged successfully!\n"
     ]
    }
   ],
   "source": [
    "#  Set MLflow Experiment\n",
    "mlflow.set_experiment(\"Fashion_MNIST_Tracking\")\n",
    "\n",
    "#  Define Different Training Configurations\n",
    "configurations = [\n",
    "    {\"epochs\": 5, \"optimizer\": \"adam\"},\n",
    "    {\"epochs\": 10, \"optimizer\": \"adam\"},\n",
    "    {\"epochs\": 5, \"optimizer\": \"sgd\"},\n",
    "]\n",
    "\n",
    "#  Train and Log Each Model in MLflow\n",
    "for config in configurations:\n",
    "    with mlflow.start_run(run_name=f\"Model_E{config['epochs']}_{config['optimizer']}\"):  \n",
    "        print(f\"\\n Training Model: Epochs={config['epochs']}, Optimizer={config['optimizer']}\")\n",
    "\n",
    "        #  Define Your Provided Model\n",
    "        model = keras.Sequential([\n",
    "            keras.layers.Flatten(input_shape=(28, 28)),\n",
    "            keras.layers.Dense(128, activation='relu'),\n",
    "            keras.layers.Dropout(0.2),\n",
    "            keras.layers.Dense(10, activation='softmax')\n",
    "        ])\n",
    "\n",
    "        #  Compile Model\n",
    "        model.compile(optimizer=config[\"optimizer\"],\n",
    "                      loss='sparse_categorical_crossentropy',\n",
    "                      metrics=['accuracy'])\n",
    "\n",
    "        #  Train Model\n",
    "        history = model.fit(X_train, y_train, validation_data=(X_val, y_val), epochs=config[\"epochs\"], verbose=1)\n",
    "\n",
    "        #  Log Parameters & Metrics in MLflow\n",
    "        mlflow.log_param(\"epochs\", config[\"epochs\"])\n",
    "        mlflow.log_param(\"optimizer\", config[\"optimizer\"])\n",
    "        mlflow.log_metric(\"train_accuracy\", history.history['accuracy'][-1])\n",
    "        mlflow.log_metric(\"val_accuracy\", history.history['val_accuracy'][-1])\n",
    "\n",
    "        #  Save Model & Log in MLflow\n",
    "        model_filename = f\"fashion_mnist_model_E{config['epochs']}_{config['optimizer']}.h5\"\n",
    "        model.save(model_filename)\n",
    "        mlflow.log_artifact(model_filename)\n",
    "\n",
    "print(\"\\n All models trained and logged successfully!\")"
   ]
  },
  {
   "cell_type": "code",
   "execution_count": 7,
   "metadata": {},
   "outputs": [
    {
     "name": "stderr",
     "output_type": "stream",
     "text": [
      "f:\\Aarzoo\\Mtech AI\\Recordings\\sem3\\MLOPS\\Assignment 2\\MLOPS-bits-Group41-Assignment2\\venv\\Lib\\site-packages\\numpy\\lib\\function_base.py:2897: RuntimeWarning: invalid value encountered in divide\n",
      "  c /= stddev[:, None]\n",
      "f:\\Aarzoo\\Mtech AI\\Recordings\\sem3\\MLOPS\\Assignment 2\\MLOPS-bits-Group41-Assignment2\\venv\\Lib\\site-packages\\numpy\\lib\\function_base.py:2898: RuntimeWarning: invalid value encountered in divide\n",
      "  c /= stddev[None, :]\n",
      "f:\\Aarzoo\\Mtech AI\\Recordings\\sem3\\MLOPS\\Assignment 2\\MLOPS-bits-Group41-Assignment2\\venv\\Lib\\site-packages\\numpy\\lib\\function_base.py:2897: RuntimeWarning: invalid value encountered in divide\n",
      "  c /= stddev[:, None]\n",
      "f:\\Aarzoo\\Mtech AI\\Recordings\\sem3\\MLOPS\\Assignment 2\\MLOPS-bits-Group41-Assignment2\\venv\\Lib\\site-packages\\numpy\\lib\\function_base.py:2898: RuntimeWarning: invalid value encountered in divide\n",
      "  c /= stddev[None, :]\n"
     ]
    }
   ],
   "source": [
    "import pandas as pd\n",
    "\n",
    "# Convert to DataFrame with column names\n",
    "num_features = 28 * 28  # Total pixels in an image\n",
    "column_names = [f\"pixel_{i}\" for i in range(num_features)]\n",
    "\n",
    "reference_data = pd.DataFrame(X_test.reshape(-1, num_features)[:5000], columns=column_names)\n",
    "current_data = pd.DataFrame(X_test.reshape(-1, num_features)[5000:], columns=column_names)\n",
    "\n",
    "# Create a drift detection report\n",
    "drift_report = Report(metrics=[DataDriftPreset()])\n",
    "drift_report.run(reference_data=reference_data, current_data=current_data)\n",
    "\n",
    "# Generate report\n",
    "drift_report.save_html(\"drift_report.html\")\n",
    "\n",
    "# Log drift report to MLflow\n",
    "mlflow.log_artifact(\"drift_report.html\")\n"
   ]
  },
  {
   "cell_type": "markdown",
   "metadata": {},
   "source": [
    "Observations -\n",
    "* As per the report generated we do not see any data drift as of now whereas we have still given the threshold for the drift. If a new dataset comes and this is ran again then we can observe from the report if data drift occurs or not. This helps in monitoring anytime the data drift issue.\n",
    "* We can notice that for three different models we have different model metrics in the mlflow. We chose adam and sgd optimizers and with different number of epochs to run on our dataset. \n",
    "* We log the accuracy for training and validation for each model. \n",
    "* Mlflow helps us to not only log but also observe the performance of the models by looking into all the required parameters to conclude which model may be best for a certain use case.\n",
    "* We have also logged the drift report for our dataset which helps in evaluating when the retraining will be needed. If there is any change in the dataset tomorrow , the drift report can detect and we can analyse when retraining will be needed. We have kept a threshold of 0.5 for this detection and used evidently AI for the same.\n",
    "* Evidently AI automatically detects drift in data distribution without needing manual feature selection.\n",
    "* Evidently AI supports both feature drift (input data changes) and target drift (label distribution shifts).\n",
    "* In real-world scenarios, input data may change due to seasonality, user behavior, or sensor degradation. Evidently AI makes it easy to monitor these changes without writing complex statistical tests manually."
   ]
  }
 ],
 "metadata": {
  "kernelspec": {
   "display_name": "venv",
   "language": "python",
   "name": "python3"
  },
  "language_info": {
   "codemirror_mode": {
    "name": "ipython",
    "version": 3
   },
   "file_extension": ".py",
   "mimetype": "text/x-python",
   "name": "python",
   "nbconvert_exporter": "python",
   "pygments_lexer": "ipython3",
   "version": "3.12.7"
  }
 },
 "nbformat": 4,
 "nbformat_minor": 2
}
